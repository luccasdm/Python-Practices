{
 "cells": [
  {
   "cell_type": "markdown",
   "metadata": {},
   "source": [
    "<h2>1° Importando Libs e Declarando Listas e Variáveis</h2>"
   ]
  },
  {
   "cell_type": "code",
   "execution_count": 1,
   "metadata": {},
   "outputs": [],
   "source": [
    "import datetime\n",
    "from collections import Counter\n",
    "import collections\n",
    "import pandas as pd\n",
    "import matplotlib\n",
    "import matplotlib.pyplot as plt\n",
    "import seaborn as sns\n",
    "\n",
    "lista_hora = []\n",
    "lista_dia_semana = []\n",
    "lista_datas = []\n",
    "lista_erros = []\n",
    "lista_pessoas = []\n",
    "lista_mensagens = []\n",
    "lista_nulos = []"
   ]
  },
  {
   "cell_type": "markdown",
   "metadata": {},
   "source": [
    "<h2>2° Tratamento do Arquivo</h2>"
   ]
  },
  {
   "cell_type": "code",
   "execution_count": 2,
   "metadata": {},
   "outputs": [],
   "source": [
    "def analise_arquivo(nm_arquivo):\n",
    "    arquivo = open(nm_arquivo, \"r\", encoding='utf-8')\n",
    "\n",
    "    linha = arquivo.readline()\n",
    "\n",
    "    while linha:\n",
    "        linha = arquivo.readline()\n",
    "        try:\n",
    "            data_hora = datetime.datetime.strptime(linha[1:7] + '20' + linha[7:18], '%d/%m/%Y %H:%M:%S')\n",
    "            lista_datas.append(data_hora)\n",
    "            mensagem = linha[20:]\n",
    "            if(linha[0:1] + linha[18:19] == '[]' or linha[20:24] == '+55'):\n",
    "                if(len(mensagem.split(':')) >= 2):\n",
    "                        lista_pessoas.append(mensagem.split(':')[0])\n",
    "                        lista_mensagens.append(mensagem.split(':')[1])\n",
    "            else:\n",
    "                lista_mensagens.append(linha)    \n",
    "        except ValueError:\n",
    "            lista_erros.append('Erros de formatação de data' + linha)\n",
    "\n",
    "    arquivo.close()\n",
    " \n",
    "\n",
    "analise_arquivo('chat.txt')"
   ]
  },
  {
   "cell_type": "markdown",
   "metadata": {},
   "source": [
    "<h2>3° Palavras Mais Usadas</h2>"
   ]
  },
  {
   "cell_type": "code",
   "execution_count": 8,
   "metadata": {},
   "outputs": [
    {
     "data": {
      "text/plain": [
       "<AxesSubplot:title={'center':'Palavras Mais Usadas'}, xlabel='Palavra'>"
      ]
     },
     "execution_count": 8,
     "metadata": {},
     "output_type": "execute_result"
    },
    {
     "data": {
      "image/png": "[encoded data removed]",
      "text/plain": [
       "<Figure size 432x288 with 1 Axes>"
      ]
     },
     "metadata": {
      "needs_background": "light"
     },
     "output_type": "display_data"
    }
   ],
   "source": [
    "def conta_palavras(msgs):\n",
    "    palavras = []\n",
    "    for frases in msgs:\n",
    "        for palavra in frases.split():\n",
    "            palavras.append(palavra)\n",
    "    return Counter(palavras)\n",
    "\n",
    "palavras_dict = dict(conta_palavras(lista_mensagens))\n",
    "df_palavras = pd.DataFrame(palavras_dict.items(), columns=['Palavra', 'Frequencia'])\n",
    "df_palavras_2 = df_palavras.sort_values(by=['Frequencia'], ascending=False)\n",
    "df_palavras_2.head(10).plot(kind='bar', \n",
    "                          x = 'Palavra', \n",
    "                          y='Frequencia', \n",
    "                          title='Palavras Mais Usadas')"
   ]
  },
  {
   "cell_type": "markdown",
   "metadata": {},
   "source": [
    "<h2>4° Dias Mais Falados - Semana</h2>"
   ]
  },
  {
   "cell_type": "code",
   "execution_count": 9,
   "metadata": {},
   "outputs": [
    {
     "data": {
      "text/plain": [
       "<AxesSubplot:title={'center':'Dias Mais Falados - Semana'}, xlabel='Dia_Semana'>"
      ]
     },
     "execution_count": 9,
     "metadata": {},
     "output_type": "execute_result"
    },
    {
     "data": {
      "image/png": "[encoded data removed]",
      "text/plain": [
       "<Figure size 432x288 with 1 Axes>"
      ]
     },
     "metadata": {
      "needs_background": "light"
     },
     "output_type": "display_data"
    }
   ],
   "source": [
    "dia_da_semana = {0: \"Domingo\",\n",
    "                 1: \"Segunda-Feira\",\n",
    "                 2: \"Terça-Feira\",\n",
    "                 3: \"Quarta-Feira\",\n",
    "                 4: \"Quinta-Feira\",\n",
    "                 5: \"Sexta-Feira\",\n",
    "                 6: \"Sábado\"}\n",
    " \n",
    "\n",
    "for data in lista_datas:\n",
    "    lista_hora.append(data.time().hour)\n",
    "    \n",
    "    lista_dia_semana.append(dia_da_semana.get(data.weekday()))\n",
    "    \n",
    "    if(data.weekday() == 1):\n",
    "        lista_dia_semana.append('Segunda-Feira')\n",
    "    elif(data.weekday() == 2):\n",
    "        lista_dia_semana.append('Terça-Feira')\n",
    "    elif(data.weekday() == 3):\n",
    "        lista_dia_semana.append('Quarta-Feira')\n",
    "    elif(data.weekday() == 4):\n",
    "        lista_dia_semana.append('Quinta-Feira')\n",
    "    elif(data.weekday() == 5):\n",
    "        lista_dia_semana.append('Sexta-Feira')\n",
    "    elif(data.weekday() == 6):\n",
    "        lista_dia_semana.append('Sábado')\n",
    "    elif(data.weekday() == 0):\n",
    "        lista_dia_semana.append('Domingo')\n",
    "\n",
    "        \n",
    "count_dia_semana = dict(Counter(lista_dia_semana))\n",
    "df_semana = pd.DataFrame(count_dia_semana.items(),columns=['Dia_Semana','Frequencia'])\n",
    "df_semana_2 = df_semana.sort_values(by=['Frequencia'], ascending=False)\n",
    "df_semana_2.plot(kind='bar', \n",
    "                 x = 'Dia_Semana', \n",
    "                 y='Frequencia', \n",
    "                 title='Dias Mais Falados - Semana')"
   ]
  },
  {
   "cell_type": "markdown",
   "metadata": {},
   "source": [
    "<h2>5° Hora Mais Falada e Menos Falada</h2>"
   ]
  },
  {
   "cell_type": "code",
   "execution_count": 26,
   "metadata": {},
   "outputs": [
    {
     "data": {
      "text/plain": [
       "<AxesSubplot:title={'center':'Horário Mais Falado'}, xlabel='Hora'>"
      ]
     },
     "execution_count": 26,
     "metadata": {},
     "output_type": "execute_result"
    },
    {
     "data": {
      "image/png": "[encoded data removed]",
      "text/plain": [
       "<Figure size 432x288 with 1 Axes>"
      ]
     },
     "metadata": {
      "needs_background": "light"
     },
     "output_type": "display_data"
    }
   ],
   "source": [
    "count_horas = dict(Counter(lista_hora))\n",
    "df_horas = pd.DataFrame(count_horas.items(), columns=['Hora', 'Frequencia'])\n",
    "df_horas = df_horas.sort_values(by=['Frequencia'], ascending=False)\n",
    "\n",
    "df_horas.plot(kind='bar', \n",
    "              x = 'Hora', \n",
    "              y='Frequencia', \n",
    "              title='Horário Mais Falado')"
   ]
  }
 ],
 "metadata": {
  "kernelspec": {
   "display_name": "Python 3",
   "language": "python",
   "name": "python3"
  },
  "language_info": {
   "codemirror_mode": {
    "name": "ipython",
    "version": 3
   },
   "file_extension": ".py",
   "mimetype": "text/x-python",
   "name": "python",
   "nbconvert_exporter": "python",
   "pygments_lexer": "ipython3",
   "version": "3.8.5"
  }
 },
 "nbformat": 4,
 "nbformat_minor": 4
}
