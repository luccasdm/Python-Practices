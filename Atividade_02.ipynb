{
 "cells": [
  {
   "cell_type": "markdown",
   "metadata": {},
   "source": [
    "<h1>LISTA DE EXERCÍCIOS</h1>"
   ]
  },
  {
   "cell_type": "code",
   "execution_count": 6,
   "metadata": {},
   "outputs": [],
   "source": [
    "import math\n",
    "import numpy as np"
   ]
  },
  {
   "cell_type": "markdown",
   "metadata": {},
   "source": [
    "<b><p>Exercícios 01 - Você tem uma lista de número: [6,7,4,7,8,4,2,5,7,&#39;hum&#39;, &#39;dois&#39;]. A ideia do exercício é\n",
    "tirar a média de todos os valores contidos na lista, porém para fazer o cálculo\n",
    "precisa remover as strings.</p></b>"
   ]
  },
  {
   "cell_type": "code",
   "execution_count": 30,
   "metadata": {},
   "outputs": [
    {
     "name": "stdout",
     "output_type": "stream",
     "text": [
      "A média é da lista é =  4.545454545454546\n"
     ]
    }
   ],
   "source": [
    "lista = [6,7,4,7,8,4,2,5,7,'hum', 'dois']\n",
    "\n",
    "media = sum(lista[0:9]) / len(lista)\n",
    "\n",
    "print('A média é da lista é = ', media)"
   ]
  },
  {
   "cell_type": "markdown",
   "metadata": {},
   "source": [
    "<b><p>Exercício 02 - Crie um método que receba duas matrizes, some os valores total de cada matriz e\n",
    "depois multiple o resultado delas e retorne o valor.</p></b>"
   ]
  },
  {
   "cell_type": "code",
   "execution_count": 33,
   "metadata": {},
   "outputs": [
    {
     "name": "stdout",
     "output_type": "stream",
     "text": [
      "O resultado da multiplicação da Matriz 1 com a Matriz 2 é:  1482\n"
     ]
    }
   ],
   "source": [
    "matriz_1 = np.array([[2,2], \n",
    "                     [4,1], \n",
    "                     [6,4]])\n",
    "\n",
    "matriz_2 = np.array([[2,4], \n",
    "                     [1,64], \n",
    "                     [3,4]])\n",
    "\n",
    "\n",
    "def recebe_matriz(mat1, mat2):\n",
    "\n",
    "    soma_matriz_1 = mat1.sum()\n",
    "\n",
    "    soma_matriz_2 = mat2.sum()\n",
    "\n",
    "    mult = soma_matriz_1 * soma_matriz_2\n",
    "                                  \n",
    "    print('O resultado da multiplicação da Matriz 1 com a Matriz 2 é: ', mult)\n",
    "\n",
    "recebe_matriz(matriz_1, matriz_2)"
   ]
  },
  {
   "cell_type": "markdown",
   "metadata": {},
   "source": [
    "<b><p>Exercício 03 - Criar uma matriz nxm (n = 5, m =7)<br>\n",
    "a. faça a matriz transposta desta matriz</p></b>"
   ]
  },
  {
   "cell_type": "code",
   "execution_count": 43,
   "metadata": {},
   "outputs": [
    {
     "name": "stdout",
     "output_type": "stream",
     "text": [
      "Matriz (5,7):\n",
      " [[0.02422609 0.43665484 0.75722482 0.19374723 0.62924155 0.64395359\n",
      "  0.51805086]\n",
      " [0.07848235 0.81246626 0.50943933 0.67638977 0.24946871 0.78106869\n",
      "  0.70989639]\n",
      " [0.94841004 0.5633349  0.78186672 0.29904579 0.84820675 0.22788201\n",
      "  0.37862301]\n",
      " [0.53257679 0.82648742 0.67229581 0.47906446 0.05601989 0.95422277\n",
      "  0.69057872]\n",
      " [0.70717197 0.124048   0.52152261 0.08086296 0.02449086 0.02362847\n",
      "  0.57886682]]\n",
      "Matriz Transposta:\n",
      " [[0.02422609 0.07848235 0.94841004 0.53257679 0.70717197]\n",
      " [0.43665484 0.81246626 0.5633349  0.82648742 0.124048  ]\n",
      " [0.75722482 0.50943933 0.78186672 0.67229581 0.52152261]\n",
      " [0.19374723 0.67638977 0.29904579 0.47906446 0.08086296]\n",
      " [0.62924155 0.24946871 0.84820675 0.05601989 0.02449086]\n",
      " [0.64395359 0.78106869 0.22788201 0.95422277 0.02362847]\n",
      " [0.51805086 0.70989639 0.37862301 0.69057872 0.57886682]]\n"
     ]
    }
   ],
   "source": [
    "matriz_exs_03 = np.random.rand(5,7)\n",
    "print('Matriz (5,7):\\n', matriz_exs_03)\n",
    "\n",
    "matriz_transposta = matriz_exs_03.T\n",
    "print('Matriz Transposta:\\n', matriz_transposta)"
   ]
  },
  {
   "cell_type": "markdown",
   "metadata": {},
   "source": [
    "<b><p>b. somar toda matrix</p>"
   ]
  },
  {
   "cell_type": "code",
   "execution_count": 44,
   "metadata": {},
   "outputs": [
    {
     "name": "stdout",
     "output_type": "stream",
     "text": [
      "Soma total da Matriz:  17.339517222392452\n"
     ]
    }
   ],
   "source": [
    "soma_total_matriz = matriz_exs_03.sum()\n",
    "print('Soma total da Matriz: ', soma_total_matriz)"
   ]
  },
  {
   "cell_type": "markdown",
   "metadata": {},
   "source": [
    "<b>\n",
    "    <p>c. somar todas as colunas</p>"
   ]
  },
  {
   "cell_type": "code",
   "execution_count": 46,
   "metadata": {},
   "outputs": [
    {
     "name": "stdout",
     "output_type": "stream",
     "text": [
      "Soma das colunas:\n",
      " [2.29086724 2.76299141 3.24234927 1.72911021 1.80742776 2.63075552\n",
      " 2.87601581]\n"
     ]
    }
   ],
   "source": [
    "soma_colunas_matriz = matriz_exs_03.sum(axis = 0)\n",
    "print('Soma das colunas:\\n', soma_colunas_matriz)"
   ]
  },
  {
   "cell_type": "markdown",
   "metadata": {},
   "source": [
    "<b>\n",
    "    <p>d. somar todas as linhas.</p>"
   ]
  },
  {
   "cell_type": "code",
   "execution_count": 47,
   "metadata": {},
   "outputs": [
    {
     "name": "stdout",
     "output_type": "stream",
     "text": [
      "Soma das linhas:\n",
      " [3.20309897 3.8172115  4.04736921 4.21124585 2.06059168]\n"
     ]
    }
   ],
   "source": [
    "soma_linhas_matriz = matriz_exs_03.sum(axis = 1)\n",
    "print('Soma das linhas:\\n', soma_linhas_matriz)"
   ]
  },
  {
   "cell_type": "markdown",
   "metadata": {},
   "source": [
    "<b><p>e. retorne o maior valor</p>"
   ]
  },
  {
   "cell_type": "code",
   "execution_count": 50,
   "metadata": {},
   "outputs": [
    {
     "name": "stdout",
     "output_type": "stream",
     "text": [
      "Maior valor da matriz:  0.9542227701339999\n"
     ]
    }
   ],
   "source": [
    "maior_valor = matriz_exs_03.max()\n",
    "print('Maior valor da matriz: ', maior_valor)"
   ]
  },
  {
   "cell_type": "markdown",
   "metadata": {},
   "source": [
    "<b><p>f. retorne o menor valor.</p>"
   ]
  },
  {
   "cell_type": "code",
   "execution_count": 51,
   "metadata": {},
   "outputs": [
    {
     "name": "stdout",
     "output_type": "stream",
     "text": [
      "Menos valor da matriz:  0.02362846645073291\n"
     ]
    }
   ],
   "source": [
    "menor_valor = matriz_exs_03.min()\n",
    "print('Menos valor da matriz: ', menor_valor)"
   ]
  },
  {
   "cell_type": "markdown",
   "metadata": {},
   "source": [
    "<b><p>Exercício 04 - Crie uma matriz nxn (n=5). Agora some essa matriz com a matriz do exercício 3.</p></b>"
   ]
  },
  {
   "cell_type": "code",
   "execution_count": 76,
   "metadata": {},
   "outputs": [
    {
     "name": "stdout",
     "output_type": "stream",
     "text": [
      "Soma das Matrizes:\n",
      " [4.00661642 4.47874059 4.95809845 3.44485938 3.52317694 4.3465047\n",
      " 4.59176498]\n"
     ]
    }
   ],
   "source": [
    "matriz_exs_04 = np.random.rand(5)\n",
    "\n",
    "soma = sum(matriz_exs_03) + sum(matriz_exs_04)\n",
    "\n",
    "print('Soma das Matrizes:\\n', soma)"
   ]
  },
  {
   "cell_type": "markdown",
   "metadata": {},
   "source": [
    "<b><p>Exercício 05 - Crie um array de números que vai de 0 a.</p></b>"
   ]
  },
  {
   "cell_type": "code",
   "execution_count": 80,
   "metadata": {},
   "outputs": [
    {
     "name": "stdout",
     "output_type": "stream",
     "text": [
      "[   0    1    2 ...  998  999 1000]\n"
     ]
    }
   ],
   "source": [
    "array_random = np.arange(0,1001)\n",
    "print(array_random)"
   ]
  },
  {
   "cell_type": "markdown",
   "metadata": {},
   "source": [
    "<b><p>Exercício 06 - Crie uma matriz só de zeros.</p></b>"
   ]
  },
  {
   "cell_type": "code",
   "execution_count": 87,
   "metadata": {},
   "outputs": [
    {
     "name": "stdout",
     "output_type": "stream",
     "text": [
      "[[0. 0.]\n",
      " [0. 0.]]\n"
     ]
    }
   ],
   "source": [
    "matriz_zero = np.zeros((2,2))\n",
    "print(matriz_zero)"
   ]
  }
 ],
 "metadata": {
  "kernelspec": {
   "display_name": "Python 3",
   "language": "python",
   "name": "python3"
  },
  "language_info": {
   "codemirror_mode": {
    "name": "ipython",
    "version": 3
   },
   "file_extension": ".py",
   "mimetype": "text/x-python",
   "name": "python",
   "nbconvert_exporter": "python",
   "pygments_lexer": "ipython3",
   "version": "3.8.5"
  }
 },
 "nbformat": 4,
 "nbformat_minor": 4
}
